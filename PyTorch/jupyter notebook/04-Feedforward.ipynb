{
 "cells": [
  {
   "cell_type": "code",
   "execution_count": 1,
   "metadata": {
    "collapsed": true
   },
   "outputs": [],
   "source": [
    "import torch\n",
    "import torch.nn as nn\n",
    "import torchvision.datasets as dsets\n",
    "import torchvision.transforms as transforms\n",
    "from torch.autograd import Variable"
   ]
  },
  {
   "cell_type": "code",
   "execution_count": 2,
   "metadata": {
    "collapsed": true
   },
   "outputs": [],
   "source": [
    "# Hyper Parameters\n",
    "input_size = 784\n",
    "hidden_size = 500\n",
    "num_classes = 10\n",
    "num_epochs = 5\n",
    "batch_size = 100\n",
    "learning_rate = 0.001"
   ]
  },
  {
   "cell_type": "code",
   "execution_count": 15,
   "metadata": {
    "collapsed": true
   },
   "outputs": [],
   "source": [
    "# MNIST Dataset\n",
    "train_dataset = dsets.MNIST(root='../data',\n",
    "                           train=True,\n",
    "                           transform = transforms.ToTensor(),\n",
    "                           download=True)\n",
    "test_dataset = dsets.MNIST(root='../data',\n",
    "                           train=False,\n",
    "                           transform=transforms.ToTensor())\n",
    "# Data Loader (Input Pipeline)\n",
    "train_loader = torch.utils.data.DataLoader(dataset = train_dataset,\n",
    "                                          batch_size=batch_size,\n",
    "                                          shuffle=True)\n",
    "test_loader = torch.utils.data.DataLoader(dataset=test_dataset,\n",
    "                                         batch_size = batch_size,\n",
    "                                         shuffle=False)"
   ]
  },
  {
   "cell_type": "code",
   "execution_count": 16,
   "metadata": {
    "collapsed": true
   },
   "outputs": [],
   "source": [
    "# Neural Network Model(1 hidden layer)\n",
    "class Net(nn.Module):\n",
    "    def __init__(self,input_size, hidden_size,num_classes):\n",
    "        super(Net,self).__init__()\n",
    "        self.fc1 = nn.Linear(input_size,hidden_size)\n",
    "        self.relu = nn.ReLU()\n",
    "        self.fc2 = nn.Linear(hidden_size,num_classes)\n",
    "        \n",
    "    def forward(self,x):\n",
    "        out = self.fc1(x)\n",
    "        out = self.relu(out)\n",
    "        out = self.fc2(out)\n",
    "        return out"
   ]
  },
  {
   "cell_type": "code",
   "execution_count": 17,
   "metadata": {
    "collapsed": true
   },
   "outputs": [],
   "source": [
    "net = Net(input_size,hidden_size,num_classes)"
   ]
  },
  {
   "cell_type": "code",
   "execution_count": 18,
   "metadata": {
    "collapsed": true
   },
   "outputs": [],
   "source": [
    "# Loss and Optimizer\n",
    "criterion = nn.CrossEntropyLoss()\n",
    "optimizer = torch.optim.Adam(net.parameters(),lr=learning_rate)"
   ]
  },
  {
   "cell_type": "code",
   "execution_count": 21,
   "metadata": {},
   "outputs": [
    {
     "name": "stdout",
     "output_type": "stream",
     "text": [
      "Epoch [1/5],Step [100/600],Loss:0.1640\n",
      "Epoch [1/5],Step [200/600],Loss:0.1753\n",
      "Epoch [1/5],Step [300/600],Loss:0.1388\n",
      "Epoch [1/5],Step [400/600],Loss:0.1642\n",
      "Epoch [1/5],Step [500/600],Loss:0.1389\n",
      "Epoch [1/5],Step [600/600],Loss:0.1175\n",
      "Epoch [2/5],Step [100/600],Loss:0.1195\n",
      "Epoch [2/5],Step [200/600],Loss:0.1231\n",
      "Epoch [2/5],Step [300/600],Loss:0.1080\n",
      "Epoch [2/5],Step [400/600],Loss:0.1154\n",
      "Epoch [2/5],Step [500/600],Loss:0.0573\n",
      "Epoch [2/5],Step [600/600],Loss:0.1753\n",
      "Epoch [3/5],Step [100/600],Loss:0.1645\n",
      "Epoch [3/5],Step [200/600],Loss:0.1209\n",
      "Epoch [3/5],Step [300/600],Loss:0.0351\n",
      "Epoch [3/5],Step [400/600],Loss:0.0762\n",
      "Epoch [3/5],Step [500/600],Loss:0.0115\n",
      "Epoch [3/5],Step [600/600],Loss:0.1279\n",
      "Epoch [4/5],Step [100/600],Loss:0.0686\n",
      "Epoch [4/5],Step [200/600],Loss:0.0542\n",
      "Epoch [4/5],Step [300/600],Loss:0.1321\n",
      "Epoch [4/5],Step [400/600],Loss:0.0763\n",
      "Epoch [4/5],Step [500/600],Loss:0.0194\n",
      "Epoch [4/5],Step [600/600],Loss:0.0399\n",
      "Epoch [5/5],Step [100/600],Loss:0.0187\n",
      "Epoch [5/5],Step [200/600],Loss:0.0078\n",
      "Epoch [5/5],Step [300/600],Loss:0.0310\n",
      "Epoch [5/5],Step [400/600],Loss:0.0370\n",
      "Epoch [5/5],Step [500/600],Loss:0.0168\n",
      "Epoch [5/5],Step [600/600],Loss:0.0387\n"
     ]
    }
   ],
   "source": [
    "# Train the Model\n",
    "for epoch in range(num_epochs):\n",
    "    for i,(images,labels)in enumerate(train_loader):\n",
    "        # Convert torch tensor to Variable\n",
    "        images = Variable(images.view(-1,28*28))\n",
    "        labels = Variable(labels)\n",
    "        \n",
    "        # Forward + Backward + Optimize\n",
    "        optimizer.zero_grad() # zero the gradient buffer\n",
    "        outputs = net(images)\n",
    "        loss = criterion(outputs,labels)\n",
    "        loss.backward()\n",
    "        optimizer.step()\n",
    "        \n",
    "        if(i+1)%100 ==0:\n",
    "            print('Epoch [%d/%d],Step [%d/%d],Loss:%.4f'\n",
    "                 %(epoch+1,num_epochs,i+1,len(train_dataset)//batch_size,loss.data[0]))"
   ]
  },
  {
   "cell_type": "code",
   "execution_count": 22,
   "metadata": {},
   "outputs": [
    {
     "name": "stdout",
     "output_type": "stream",
     "text": [
      "Accuracy of the network on the 10000 test images: 98 %\n"
     ]
    }
   ],
   "source": [
    "# Test the Model\n",
    "correct = 0\n",
    "total = 0\n",
    "for images,labels in test_loader:\n",
    "    images = Variable(images.view(-1,28*28))\n",
    "    outputs = net(images)\n",
    "    _,predicted = torch.max(outputs.data,1)\n",
    "    total += labels.size(0)\n",
    "    correct += (predicted==labels).sum()\n",
    "print('Accuracy of the network on the 10000 test images: %d %%'%(100*correct/total))\n",
    "\n",
    "# Save the Model\n",
    "torch.save(net.state_dict(),'../checkpoint/feedforward.pkl')"
   ]
  }
 ],
 "metadata": {
  "kernelspec": {
   "display_name": "Python 2",
   "language": "python",
   "name": "python2"
  },
  "language_info": {
   "codemirror_mode": {
    "name": "ipython",
    "version": 2
   },
   "file_extension": ".py",
   "mimetype": "text/x-python",
   "name": "python",
   "nbconvert_exporter": "python",
   "pygments_lexer": "ipython2",
   "version": "2.7.12"
  }
 },
 "nbformat": 4,
 "nbformat_minor": 2
}
