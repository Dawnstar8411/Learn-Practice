{
 "cells": [
  {
   "cell_type": "markdown",
   "metadata": {},
   "source": [
    "PyTorch中包含两个大包`torch`和`torchvision`。`torch`中包含了多维张量的数据结构以及定义在其上的数学运算，同时提供了很多针对tensor操作的工具。torch包和Python中的Numpy包类似，不同点是利用CUDA，torch包允许在GPU上进行并行加速运算。`torchvision`中包含了常用的数据库，网络模型和图像转换工具，在完成简单任务是，可以直接调用。"
   ]
  },
  {
   "cell_type": "code",
   "execution_count": null,
   "metadata": {},
   "outputs": [],
   "source": []
  }
 ],
 "metadata": {
  "kernelspec": {
   "display_name": "Python 3",
   "language": "python",
   "name": "python3"
  },
  "language_info": {
   "codemirror_mode": {
    "name": "ipython",
    "version": 3
   },
   "file_extension": ".py",
   "mimetype": "text/x-python",
   "name": "python",
   "nbconvert_exporter": "python",
   "pygments_lexer": "ipython3",
   "version": "3.5.2"
  }
 },
 "nbformat": 4,
 "nbformat_minor": 2
}
