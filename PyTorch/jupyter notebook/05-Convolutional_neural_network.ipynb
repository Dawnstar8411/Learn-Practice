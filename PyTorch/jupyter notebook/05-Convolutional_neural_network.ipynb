{
 "cells": [
  {
   "cell_type": "code",
   "execution_count": 4,
   "metadata": {
    "collapsed": true
   },
   "outputs": [],
   "source": [
    "import torch\n",
    "import torch.nn as nn\n",
    "import torchvision.datasets as dsets\n",
    "import torchvision.transforms as transforms\n",
    "from torch.autograd import Variable"
   ]
  },
  {
   "cell_type": "code",
   "execution_count": 5,
   "metadata": {
    "collapsed": true
   },
   "outputs": [],
   "source": [
    "# Hyper Parameters\n",
    "num_epochs = 5\n",
    "batch_size = 100\n",
    "learning_rate = 0.001"
   ]
  },
  {
   "cell_type": "code",
   "execution_count": 8,
   "metadata": {},
   "outputs": [],
   "source": [
    "# MNIST Dataset\n",
    "train_dataset = dsets.MNIST(root = '../data/',\n",
    "                           train = True,\n",
    "                           transform = transforms.ToTensor(),\n",
    "                           download = True)\n",
    "test_dataset = dsets.MNIST(root = '../data/',\n",
    "                         train = False,\n",
    "                         transform = transforms.ToTensor())\n",
    "\n",
    "# Data Loader(Input Pipeline)\n",
    "train_loader = torch.utils.data.DataLoader(dataset = train_dataset,\n",
    "                                          batch_size = batch_size,\n",
    "                                          shuffle = True)\n",
    "test_loader = torch.utils.data.DataLoader(dataset = test_dataset,\n",
    "                                         batch_size = batch_size,\n",
    "                                         shuffle = False)"
   ]
  },
  {
   "cell_type": "code",
   "execution_count": 26,
   "metadata": {
    "collapsed": true
   },
   "outputs": [],
   "source": [
    "# CNN Model(2 conv layer)\n",
    "class CNN(nn.Module):\n",
    "    def __init__(self):\n",
    "        super(CNN,self).__init__()\n",
    "        self.layer1 = nn.Sequential(nn.Conv2d(1,16,kernel_size = 5, padding=2),\n",
    "                                   nn.BatchNorm2d(16),\n",
    "                                   nn.ReLU(),\n",
    "                                   nn.MaxPool2d(2))\n",
    "        self.layer2 = nn.Sequential(nn.Conv2d(16,32,kernel_size=5,padding=2),\n",
    "                                  nn.BatchNorm2d(32),\n",
    "                                  nn.ReLU(),\n",
    "                                  nn.MaxPool2d(2))\n",
    "        self.fc = nn.Linear(7*7*32,10)\n",
    "        \n",
    "    def forward(self,x):\n",
    "        out = self.layer1(x)\n",
    "        out = self.layer2(out)\n",
    "        out = out.view(out.size(0),-1)\n",
    "        out = self.fc(out)\n",
    "        return out"
   ]
  },
  {
   "cell_type": "code",
   "execution_count": 27,
   "metadata": {},
   "outputs": [],
   "source": [
    "cnn = CNN()"
   ]
  },
  {
   "cell_type": "code",
   "execution_count": 28,
   "metadata": {},
   "outputs": [],
   "source": [
    "# Loss and Optimizer\n",
    "criterion = nn.CrossEntropyLoss()\n",
    "optimizer = torch.optim.Adam(cnn.parameters(),lr=learning_rate)"
   ]
  },
  {
   "cell_type": "code",
   "execution_count": 32,
   "metadata": {},
   "outputs": [
    {
     "name": "stdout",
     "output_type": "stream",
     "text": [
      "Epoch [1/5],Step [100/600],Loss:0.0830\n",
      "Epoch [1/5],Step [200/600],Loss:0.0848\n",
      "Epoch [1/5],Step [300/600],Loss:0.1513\n",
      "Epoch [1/5],Step [400/600],Loss:0.0175\n",
      "Epoch [1/5],Step [500/600],Loss:0.0760\n",
      "Epoch [1/5],Step [600/600],Loss:0.0429\n",
      "Epoch [2/5],Step [100/600],Loss:0.0155\n",
      "Epoch [2/5],Step [200/600],Loss:0.0778\n",
      "Epoch [2/5],Step [300/600],Loss:0.0093\n",
      "Epoch [2/5],Step [400/600],Loss:0.0052\n",
      "Epoch [2/5],Step [500/600],Loss:0.0273\n",
      "Epoch [2/5],Step [600/600],Loss:0.0261\n",
      "Epoch [3/5],Step [100/600],Loss:0.0821\n",
      "Epoch [3/5],Step [200/600],Loss:0.0691\n",
      "Epoch [3/5],Step [300/600],Loss:0.0099\n",
      "Epoch [3/5],Step [400/600],Loss:0.0063\n",
      "Epoch [3/5],Step [500/600],Loss:0.0167\n",
      "Epoch [3/5],Step [600/600],Loss:0.0326\n",
      "Epoch [4/5],Step [100/600],Loss:0.0230\n",
      "Epoch [4/5],Step [200/600],Loss:0.0206\n",
      "Epoch [4/5],Step [300/600],Loss:0.0141\n",
      "Epoch [4/5],Step [400/600],Loss:0.0094\n",
      "Epoch [4/5],Step [500/600],Loss:0.0327\n",
      "Epoch [4/5],Step [600/600],Loss:0.0459\n",
      "Epoch [5/5],Step [100/600],Loss:0.0403\n",
      "Epoch [5/5],Step [200/600],Loss:0.0238\n",
      "Epoch [5/5],Step [300/600],Loss:0.0408\n",
      "Epoch [5/5],Step [400/600],Loss:0.0008\n",
      "Epoch [5/5],Step [500/600],Loss:0.0022\n",
      "Epoch [5/5],Step [600/600],Loss:0.0097\n"
     ]
    }
   ],
   "source": [
    "# Train the Model\n",
    "for epoch in range(num_epochs):\n",
    "    for i,(images,labels)in enumerate(train_loader):\n",
    "        images = Variable(images)\n",
    "        labels = Variable(labels)\n",
    "        # Forward + Backward + Optimize\n",
    "        optimizer.zero_grad()\n",
    "        outputs = cnn(images)\n",
    "        loss = criterion(outputs,labels)\n",
    "        loss.backward()\n",
    "        optimizer.step()\n",
    "        \n",
    "        if(i+1)%100 ==0:\n",
    "            print('Epoch [%d/%d],Step [%d/%d],Loss:%.4f'\n",
    "                 %(epoch+1,num_epochs,i+1,len(train_dataset)//batch_size,loss.data[0]))"
   ]
  },
  {
   "cell_type": "code",
   "execution_count": 33,
   "metadata": {},
   "outputs": [
    {
     "name": "stdout",
     "output_type": "stream",
     "text": [
      "Test Accuracy of the model on the 10000 test images: 98 %\n"
     ]
    }
   ],
   "source": [
    "# Test the Model\n",
    "cnn.eval() # Change model to 'eval' mode\n",
    "correct = 0\n",
    "total = 0\n",
    "for images,labels in test_loader:\n",
    "    images = Variable(images)\n",
    "    outputs = cnn(images)\n",
    "    _,predicted = torch.max(outputs.data,1)\n",
    "    total += labels.size(0)\n",
    "    correct += (predicted==labels).sum()\n",
    "\n",
    "print('Test Accuracy of the model on the 10000 test images: %d %%'%(100*correct/total))\n",
    "    "
   ]
  },
  {
   "cell_type": "code",
   "execution_count": null,
   "metadata": {
    "collapsed": true
   },
   "outputs": [],
   "source": []
  }
 ],
 "metadata": {
  "kernelspec": {
   "display_name": "Python 2",
   "language": "python",
   "name": "python2"
  },
  "language_info": {
   "codemirror_mode": {
    "name": "ipython",
    "version": 2
   },
   "file_extension": ".py",
   "mimetype": "text/x-python",
   "name": "python",
   "nbconvert_exporter": "python",
   "pygments_lexer": "ipython2",
   "version": "2.7.12"
  }
 },
 "nbformat": 4,
 "nbformat_minor": 2
}
