{
 "cells": [
  {
   "cell_type": "markdown",
   "metadata": {},
   "source": [
    "### 导入模块"
   ]
  },
  {
   "cell_type": "code",
   "execution_count": null,
   "metadata": {},
   "outputs": [],
   "source": [
    "from __future__ import print_function\n",
    "\n",
    "from scipy.misc import imsave\n",
    "import numpy as np\n",
    "import time\n",
    "from keras.applications import vgg16\n",
    "from keras import backend as K\n",
    "import matplotlib.pyplot as plt"
   ]
  },
  {
   "cell_type": "markdown",
   "metadata": {},
   "source": [
    "### 变量"
   ]
  },
  {
   "cell_type": "code",
   "execution_count": null,
   "metadata": {
    "collapsed": true
   },
   "outputs": [],
   "source": [
    "img_width = 128\n",
    "img_height = 128\n",
    "layer_name = 'block5_conv1'"
   ]
  },
  {
   "cell_type": "code",
   "execution_count": null,
   "metadata": {},
   "outputs": [],
   "source": [
    "model = vgg16.VGG16(weights='imagenet',include_top=False)\n",
    "print('Model Loaded')\n",
    "model.summary()"
   ]
  },
  {
   "cell_type": "code",
   "execution_count": null,
   "metadata": {},
   "outputs": [],
   "source": [
    "input_img = model.input\n",
    "print(input_img.shape)"
   ]
  },
  {
   "cell_type": "code",
   "execution_count": null,
   "metadata": {},
   "outputs": [],
   "source": [
    "layer_dict = dict([(layer.name,layer)for layer in model.layers[1:]])\n",
    "print(layer_dict)"
   ]
  },
  {
   "cell_type": "code",
   "execution_count": null,
   "metadata": {
    "collapsed": true
   },
   "outputs": [],
   "source": [
    "def deprocess_image(x):\n",
    "    x -= x.mean()\n",
    "    x/= (x.std()+1e-5)\n",
    "    x*=0.1\n",
    "    \n",
    "    x+=0.5\n",
    "    x=np.clip(x,0,1)\n",
    "    \n",
    "    x*=255\n",
    "    \n",
    "    if K.image_data_format()=='channels_first':\n",
    "        x=x.transpose((1,2,0))\n",
    "    x = np.clip(x,0,255).astype('uint8')\n",
    "    return x"
   ]
  },
  {
   "cell_type": "code",
   "execution_count": null,
   "metadata": {
    "collapsed": true
   },
   "outputs": [],
   "source": [
    "def normalize(x):\n",
    "    return x/(K.sqrt(K.mean(k.square(x)))+1e-5)"
   ]
  },
  {
   "cell_type": "code",
   "execution_count": null,
   "metadata": {},
   "outputs": [],
   "source": [
    "kept_filters=[]\n",
    "for filter_index in range(0,200):\n",
    "    print('Processing filter %d'% filter_index)\n",
    "    start_time = time.time()\n",
    "    layer_output = layer_dict[layer_name].output\n",
    "    if K.image_data_format() == 'channels_first':\n",
    "        loss = K.mean(layer_output[:,filter_index,:,:])\n",
    "    else:\n",
    "        loss = K.mean(layer_output[:,:,:,filter_index])\n",
    "    grads = K.gradients(loss,input_img)[0]\n",
    "    iterate = K.function([input_img],[loss,grads])\n",
    "    step = 1\n",
    "    \n",
    "    if K.image_data_format()=='channels_first':\n",
    "        input_img_data = np.random.random((1,3,img_width,img_height))\n",
    "    else:\n",
    "        input_img_data = np.random.random((1,img_width,img_height,3))\n",
    "    input_img_data = (input_img_data-0.5)*20+128\n",
    "    \n",
    "    for i in range(20):\n",
    "        loss_value, grads_value = iterate([input_img_data])\n",
    "        input_img_data += grads_value*step\n",
    "        print('Current loss value:',loss_value)\n",
    "        if loss_value<=0:\n",
    "            break\n",
    "    if loss_value>0:\n",
    "        img = deprocess_image(input_img_data[0])\n",
    "        kept_filters.append((img,loss_value))\n",
    "    end_time = time.time()\n",
    "    print('Filter %d processed in %ds' % (filter_index,end_time-start_time))"
   ]
  },
  {
   "cell_type": "code",
   "execution_count": null,
   "metadata": {
    "scrolled": true
   },
   "outputs": [],
   "source": [
    "n = 8\n",
    "\n",
    "kept_filters.sort(key=lambda x:x[1],reverse=True)\n",
    "kept_filters = kept_filters[:n*n]\n",
    "\n",
    "margin = 5\n",
    "width = n * img_height + (n-1)* margin\n",
    "height = n * img_height + (n-1) * margin\n",
    "stitched_filters = np.zeros((width,height,3))\n",
    "\n",
    "for i in range(n):\n",
    "    for j in range(n):\n",
    "        img,loss = kept_filters[i*n+j]\n",
    "        stitched_filters[(img_width + margin)*i:(img_width+margin)*i+img_width,\n",
    "                        (img_height + margin)*j:(img_height + margin)*j + img_height,:]=img\n",
    "print(stitched_filters.shape)\n",
    "#plt.imshow(stitched_filters)\n",
    "#plt.show\n",
    "imsave('stitched_filters_%dx%d.png' % (n,n),stitched_filters)"
   ]
  }
 ],
 "metadata": {
  "kernelspec": {
   "display_name": "Python 3",
   "language": "python",
   "name": "python3"
  },
  "language_info": {
   "codemirror_mode": {
    "name": "ipython",
    "version": 3
   },
   "file_extension": ".py",
   "mimetype": "text/x-python",
   "name": "python",
   "nbconvert_exporter": "python",
   "pygments_lexer": "ipython3",
   "version": "3.5.2"
  }
 },
 "nbformat": 4,
 "nbformat_minor": 2
}
