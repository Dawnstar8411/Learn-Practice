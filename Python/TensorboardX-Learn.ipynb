{
 "cells": [
  {
   "cell_type": "code",
   "execution_count": 9,
   "metadata": {},
   "outputs": [],
   "source": [
    "from __future__ import print_function, division\n",
    "import torch\n",
    "import torch.nn as nn\n",
    "import torch.nn.functional as F\n",
    "import argparse\n",
    "import torch.optim as optim\n",
    "#import net\n",
    "from torchvision import datasets, transforms\n",
    "from tensorboardX import SummaryWriter"
   ]
  },
  {
   "cell_type": "code",
   "execution_count": 10,
   "metadata": {},
   "outputs": [],
   "source": [
    "class Net(nn.Module):\n",
    "    def __init__(self):\n",
    "        super(Net,self).__init__()\n",
    "        self.conv1 = nn.Conv2d(1,10,kernel_size = 5)\n",
    "        self.conv2 = nn.Conv2d(10,20,kernel_size = 10)\n",
    "        self.conv2_drop = nn.Dropout2d()\n",
    "        self.fc1 = nn.Linear(320,50)\n",
    "        self.fc2 = nn.Linear(50,10)\n",
    "    \n",
    "    def forward(self,x):\n",
    "        x = F.relu(F.max_pool2d(self.conv1(x),2))\n",
    "        x = F.relu(F.max_pool2d(self.conv2_drop(self.conv2(x)),2))\n",
    "        x = x.view(-1,320)\n",
    "        x = F.relu(self.fc1(x))\n",
    "        x = F.dropout(x,training=self.training)\n",
    "        x = F.relu(self.fc2(x))    \n",
    "        \n",
    "        return F.log_softmax(x,dim=1)        "
   ]
  },
  {
   "cell_type": "code",
   "execution_count": 11,
   "metadata": {},
   "outputs": [],
   "source": [
    "def train(args, model, device, train_loader, optimizer, opoch):\n",
    "    model.train()\n",
    "    train_loss = []\n",
    "    for batch_idx, (data, target) in enumerate(train_loader):\n",
    "        data, target = data.to(decvice), target.to(device)\n",
    "        optimizer.zero_grad()\n",
    "        output = model(data)\n",
    "        loss = F.nll_loss(output,target)\n",
    "        loss.backward()\n",
    "        optimizer.step()\n",
    "        train_loss.append(loss.data.numpy())\n",
    "        if batch_idx % args.log_interval == 0:\n",
    "            print('Train Epoch:{} [{}/{} ({:.0f}%)]\\tLoss:{:.6f}'.format(\n",
    "            epoch, batch_idx*len(data), len(train_loader.dataset),100. * batch_idx/len(train_loader),loss.item()))\n",
    "    return sum(train_loss)/len(train_loss)"
   ]
  },
  {
   "cell_type": "code",
   "execution_count": 12,
   "metadata": {},
   "outputs": [],
   "source": [
    "def test(args, model, device, test_loader):\n",
    "    model.eval()\n",
    "    test_loss = 0\n",
    "    correct = 0\n",
    "    with torch.no_grad():\n",
    "        for data,target in test_loader:\n",
    "            data,target = data.to(device),target.to(device)\n",
    "            output=model(data)\n",
    "            test_loss += F.nll_loss(output, target, size_average=False).item()\n",
    "            pred = output.max(1,keepdim=True)[1]\n",
    "            correct += pred.eq(target.view_as(pred)).sum().item()\n",
    "    test_loss /= len(test_loader.dataset)\n",
    "    print('\\nTest set: Average loss: {:.4f}, Accuracy:{}/{} ({:.0f}%)\\n'.format(\n",
    "    test_loss, correct,len(test_loader.dataset), 100. *correct/len(test_loader.dataset)))"
   ]
  },
  {
   "cell_type": "code",
   "execution_count": 13,
   "metadata": {},
   "outputs": [],
   "source": [
    "def main():\n",
    "    parser = argparse.ArgumentParser(description='Pytorch MINIST Example')\n",
    "    parser.add_argument('--batch_size', type=int, default=64, metavar='N',help='input batch size for training(default:64)')\n",
    "    parser.add_argument('--test_batch_size', type=int, default=1000,metavar='N',help='input batch size for testing(default:1000)')\n",
    "    parser.add_argument('--epochs', type=int, default=10, metavar='N', help='number of epochs to train(default:10)')\n",
    "    parser.add_argument('--lr', type=float, default=0.001, metavar='LR', help='learning rate(default:0.001)')\n",
    "    parser.add_argument('--momentum', type=float, default=0.5, metavar='M', help='SGD momentum(default:0.5)')\n",
    "    parser.add_argument('--no-cuda', action='store_true',default=False, help='disables CUDA training')\n",
    "    parser.add_argument('--seed', type=int, default=1, metavar='S', help='random seed(default:1)')\n",
    "    parser.add_argument('--log-interval',type=int,default=10,metavar='N',help='how many batches to wait before logging training status')\n",
    "    args = parser.parse_args()\n",
    "    \n",
    "    use_cuda = not args.no_cuda and torch.cuda.is_available()\n",
    "    \n",
    "    torch.manual_seed(args.seed)\n",
    "    \n",
    "    device = torch.device(\"cuda\" if use_cuda else \"cpu\")\n",
    "    \n",
    "    kwargs = {'num_workers':1, 'pin_memory':True} if use_cuda else{}\n",
    "    \n",
    "    train_dataset = datasets.MNIST('/data',train=True, download=True,\n",
    "                                  transform = transforms.Compose([\n",
    "                                      transforms.ToTensor(),\n",
    "                                      transforms.Normalize((0.1307,),(0.3081,))\n",
    "                                  ]))\n",
    "    test_dataset = datasets.MNIST('./data',train=False,\n",
    "                                 transform = transforms.Compose([\n",
    "                                     transforms.ToTensor(),\n",
    "                                     transforms.Normalize((0.1307,),(0.3081,))\n",
    "                                 ]))\n",
    "    train_loader = torch.utils.data.DataLoader( train_dataset, batch_size=args.batch_size, shuffle=True,  **kwargs)\n",
    "    test_loader = troch.utils.data.DataLoader(test_dataset, batch_size=args.test_batch_size, shuffle=False,**kwargs)\n",
    "    \n",
    "    model = Net().to(device)\n",
    "    optimizer = optim.SGD(model.parameters(),lr=args.lr, momentum=args.momentum)\n",
    "    \n",
    "    writer = SummaryWriter('runs')\n",
    "    \n",
    "    for epoch in range(1,args.epochs+1):\n",
    "        train_loss = train(args,model.device,train_loader,optimizer,epoch)\n",
    "        writer.add_scalar('Train',train_loss,epoch)\n",
    "        test(args,model,device,test_loader)\n",
    "        \n",
    "    writer.close()"
   ]
  },
  {
   "cell_type": "code",
   "execution_count": 14,
   "metadata": {},
   "outputs": [
    {
     "name": "stderr",
     "output_type": "stream",
     "text": [
      "usage: ipykernel_launcher.py [-h] [--batch_size N] [--test_batch_size N]\n",
      "                             [--epochs N] [--lr LR] [--momentum M] [--no-cuda]\n",
      "                             [--seed S] [--log-interval N]\n",
      "ipykernel_launcher.py: error: unrecognized arguments: -f /run/user/1000/jupyter/kernel-1d3ca4b3-fcfc-4bb8-8556-f0740e39d153.json\n"
     ]
    },
    {
     "ename": "SystemExit",
     "evalue": "2",
     "output_type": "error",
     "traceback": [
      "An exception has occurred, use %tb to see the full traceback.\n",
      "\u001b[0;31mSystemExit\u001b[0m\u001b[0;31m:\u001b[0m 2\n"
     ]
    },
    {
     "name": "stderr",
     "output_type": "stream",
     "text": [
      "/usr/local/lib/python3.5/dist-packages/IPython/core/interactiveshell.py:2971: UserWarning: To exit: use 'exit', 'quit', or Ctrl-D.\n",
      "  warn(\"To exit: use 'exit', 'quit', or Ctrl-D.\", stacklevel=1)\n"
     ]
    }
   ],
   "source": [
    "if __name__ == '__main__':\n",
    "    main()"
   ]
  },
  {
   "cell_type": "code",
   "execution_count": null,
   "metadata": {},
   "outputs": [],
   "source": []
  }
 ],
 "metadata": {
  "kernelspec": {
   "display_name": "Python 3",
   "language": "python",
   "name": "python3"
  },
  "language_info": {
   "codemirror_mode": {
    "name": "ipython",
    "version": 3
   },
   "file_extension": ".py",
   "mimetype": "text/x-python",
   "name": "python",
   "nbconvert_exporter": "python",
   "pygments_lexer": "ipython3",
   "version": "3.5.2"
  }
 },
 "nbformat": 4,
 "nbformat_minor": 2
}
