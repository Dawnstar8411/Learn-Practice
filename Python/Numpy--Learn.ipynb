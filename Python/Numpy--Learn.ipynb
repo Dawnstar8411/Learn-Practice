{
 "cells": [
  {
   "cell_type": "markdown",
   "metadata": {},
   "source": [
    "- 总结整理python中numpy包的使用"
   ]
  },
  {
   "cell_type": "code",
   "execution_count": 4,
   "metadata": {},
   "outputs": [],
   "source": [
    "import numpy as np"
   ]
  },
  {
   "cell_type": "markdown",
   "metadata": {},
   "source": [
    "NumPy(Numeric Python), SciPy(Scientific Python)和Matplotlib　一起使用，可作为Matlab的替代方案。\n",
    "NumPy中的对象为 ndarry的N维数组，其是相同类型元素的集合，每个元素在内存中使用相同大小的块。"
   ]
  },
  {
   "cell_type": "markdown",
   "metadata": {},
   "source": [
    "### 创建数组"
   ]
  },
  {
   "cell_type": "markdown",
   "metadata": {},
   "source": [
    "np.array()的第一个位置为object, 用中括号括起来的列表，列表中每个元素为数组中的元素"
   ]
  },
  {
   "cell_type": "code",
   "execution_count": null,
   "metadata": {},
   "outputs": [],
   "source": [
    "np.array([1,2,3])\n",
    "np.array([[1,2],[3,4]])\n",
    "np.array([1,2,3,4,5],ndmin=2) # 数组最小维度为2，因此创建是多加了一维\n",
    "np.array([1,2,3],dtype=complex)"
   ]
  },
  {
   "cell_type": "markdown",
   "metadata": {},
   "source": [
    "dtype为ndarry的数据类型，不仅包括布尔型，整型，浮点型等，还包括结构化的数据类型"
   ]
  },
  {
   "cell_type": "code",
   "execution_count": null,
   "metadata": {},
   "outputs": [],
   "source": [
    "dt = np.dtype(np.int32)\n",
    "dt = np.dtype('i4') # i4为int64的缩写\n",
    "dt = np.dtype('>i4')\n",
    "dt = np.dtype([('age',np.int8)]) # 表明ndarry中的元素可按字段age索引，其数据结构为8位整型\n",
    "a = np.array([(10,),(20,),(30,)],dtype=dt) # print(a) 显示[(10,)(20,)(30,)] print(a['age']) 输出[10,20,30]\n",
    "student = np.dtype([('name','S20'),('age','i1'),('marks','i4')])\n",
    "a = np.array([('abc',21,50),('xyz',18,75)],dtype=student) # 该ndarry的每一个元素都是一个结构体，其由三个字段组成"
   ]
  },
  {
   "cell_type": "markdown",
   "metadata": {},
   "source": [
    "ndarray 具有多种属性"
   ]
  },
  {
   "cell_type": "markdown",
   "metadata": {},
   "source": [
    "- ndarry.shape"
   ]
  },
  {
   "cell_type": "code",
   "execution_count": null,
   "metadata": {},
   "outputs": [],
   "source": [
    "a = np.array([[1,2,3],[4,5,6]]) # print(a.shape) 得到 (2,3)\n",
    "a = np.array([[1,2,3],[4,5,6]]) # a.shape=(3,2) 可以调整数组大小\n",
    "b = a.reshape(3,2) # reshape可以用来调整数组大小"
   ]
  },
  {
   "cell_type": "markdown",
   "metadata": {},
   "source": [
    "- ndarray.ndim"
   ]
  },
  {
   "cell_type": "code",
   "execution_count": null,
   "metadata": {},
   "outputs": [],
   "source": [
    "a = np.arange(24) # a.ndim返回数组维度\n",
    "b = a.reshape(2,4,3)\n",
    "b.ndim\n",
    "np.arange(10,20,2)"
   ]
  },
  {
   "cell_type": "markdown",
   "metadata": {},
   "source": [
    "- numpy.itemsize"
   ]
  },
  {
   "cell_type": "code",
   "execution_count": null,
   "metadata": {},
   "outputs": [],
   "source": [
    "x = np.array([1,2,3,4,5],dtype=np.int8)\n",
    "y = np.array([1,2,3,4,5],dtype=np.float32)\n",
    "x.itemsize\n",
    "y.itemsize"
   ]
  },
  {
   "cell_type": "markdown",
   "metadata": {},
   "source": [
    "- numpy.flags"
   ]
  },
  {
   "cell_type": "code",
   "execution_count": null,
   "metadata": {},
   "outputs": [],
   "source": [
    "x = np.array([1,2,3,4,5])\n",
    "x.flags"
   ]
  },
  {
   "cell_type": "markdown",
   "metadata": {},
   "source": [
    "- 生成指定样子的数组"
   ]
  },
  {
   "cell_type": "code",
   "execution_count": null,
   "metadata": {},
   "outputs": [],
   "source": [
    "np.empty([3,2],dtype=int)\n",
    "np.zeros([3,4],dtype=float)\n",
    "np.zeros((2,2),dtype=[('x','i4'),('y','i4')])\n",
    "np.ones([3,4])"
   ]
  },
  {
   "cell_type": "markdown",
   "metadata": {},
   "source": [
    "- numpy.asarray 将python序列转换成数组"
   ]
  },
  {
   "cell_type": "code",
   "execution_count": null,
   "metadata": {},
   "outputs": [],
   "source": [
    "x = [1,2,3]\n",
    "np.asarray(x)\n",
    "x = (1,2,3)\n",
    "np.asarray(x)\n",
    "x = [(1,2,3),(4,5)]\n",
    "np.asarray(x)"
   ]
  },
  {
   "cell_type": "markdown",
   "metadata": {},
   "source": [
    "- numpy.fromiter"
   ]
  },
  {
   "cell_type": "code",
   "execution_count": null,
   "metadata": {},
   "outputs": [],
   "source": [
    "list = range(5)\n",
    "it = iter(list)\n",
    "x = np.fromiter(it,dtype=float)\n",
    "x"
   ]
  },
  {
   "cell_type": "markdown",
   "metadata": {},
   "source": [
    "- numpy.linespace"
   ]
  },
  {
   "cell_type": "code",
   "execution_count": null,
   "metadata": {},
   "outputs": [],
   "source": [
    "np.linspace(10,20,5)\n",
    "np.linspace(10,20,5,endpoint=False)\n",
    "np.linspace(1,2,5,retstep=True)"
   ]
  },
  {
   "cell_type": "markdown",
   "metadata": {},
   "source": [
    "- numpy.logspace"
   ]
  },
  {
   "cell_type": "code",
   "execution_count": null,
   "metadata": {},
   "outputs": [],
   "source": [
    "np.logspace(1.0,2.0,num=10)\n",
    "np.logspace(1,10,num=10,base=2)"
   ]
  },
  {
   "cell_type": "markdown",
   "metadata": {},
   "source": [
    "- NumPy切片和索引"
   ]
  },
  {
   "cell_type": "code",
   "execution_count": null,
   "metadata": {},
   "outputs": [],
   "source": [
    "a = np.arange(10)\n",
    "s = slice(2,7,2)\n",
    "a[s]\n",
    "b = a[2:7:2]\n",
    "b = a[5]\n",
    "b = a[2:7]\n",
    "b = a[2:]\n",
    "b = a[:-1]\n",
    "b"
   ]
  },
  {
   "cell_type": "code",
   "execution_count": null,
   "metadata": {},
   "outputs": [],
   "source": [
    "a = np.array([[1,2,3],[4,5,6],[7,8,9]])\n",
    "a[1:]\n",
    "a[...,1]\n",
    "a[1,...]\n",
    "a[...,1:]"
   ]
  },
  {
   "cell_type": "code",
   "execution_count": null,
   "metadata": {},
   "outputs": [],
   "source": [
    "x = np.array([[0,1,2],[3,4,5],[6,7,8],[9,10,11]])\n",
    "y = x[[0,1,2],[0,1,0]]\n",
    "rows = np.array([[0,0],[3,3]])\n",
    "cols = np.array([[0,2],[0,2]])\n",
    "y = x[rows,cols]\n",
    "z = x[1:4,1:3]\n",
    "z = x[1:4,[1,2]]"
   ]
  },
  {
   "cell_type": "code",
   "execution_count": null,
   "metadata": {},
   "outputs": [],
   "source": [
    "x = np.array([[0,1,2],[3,4,5],[6,7,8],[9,10,11]])\n",
    "x[x>5] # 中括号里写判别式，可以返回一个索引序列，然后通过该索引提取元素"
   ]
  },
  {
   "cell_type": "markdown",
   "metadata": {},
   "source": [
    "- 数组操作"
   ]
  },
  {
   "cell_type": "code",
   "execution_count": null,
   "metadata": {},
   "outputs": [],
   "source": [
    "a = np.arange(8).reshape(4,2)\n",
    "a.flat[5] # .flat返回数组上的一维迭代器\n",
    "a.flatten(order = 'F') # 'C‘按行 'F'按列 ’A'按顺序 'k'元素在内存中出现顺序"
   ]
  },
  {
   "cell_type": "markdown",
   "metadata": {},
   "source": [
    "- 翻转操作"
   ]
  },
  {
   "cell_type": "code",
   "execution_count": null,
   "metadata": {},
   "outputs": [],
   "source": [
    "a = np.arange(12).reshape(3,4)\n",
    "np.transpose(a)\n",
    "a.T"
   ]
  },
  {
   "cell_type": "markdown",
   "metadata": {},
   "source": [
    "- 修改数组维度"
   ]
  },
  {
   "cell_type": "code",
   "execution_count": 7,
   "metadata": {},
   "outputs": [],
   "source": [
    "x = np.array(([1,2],[3,4]))\n",
    "y = np.expand_dims(x,axis=0) # [[[1,2],[3,4]]]\n",
    "x = np.arange(9).reshape(1,3,3) # [[[0,1,2],[3,4,5],[6,7,8]]]\n",
    "y = np.squeeze(x) # [[0,1,2],[3,4,5],[6,7,8]]"
   ]
  },
  {
   "cell_type": "markdown",
   "metadata": {},
   "source": [
    "- 数组的拼接"
   ]
  },
  {
   "cell_type": "code",
   "execution_count": 11,
   "metadata": {},
   "outputs": [
    {
     "data": {
      "text/plain": [
       "array([[1, 2],\n",
       "       [3, 4],\n",
       "       [5, 6],\n",
       "       [7, 8]])"
      ]
     },
     "execution_count": 11,
     "metadata": {},
     "output_type": "execute_result"
    }
   ],
   "source": [
    "a = np.array([[1,2],[3,4]])\n",
    "b = np.array([[5,6],[7,8]])\n",
    "np.concatenate((a,b),axis =0)"
   ]
  },
  {
   "cell_type": "markdown",
   "metadata": {},
   "source": [
    "- np.copy\n",
    "\n",
    "b = a 赋值操作， b = a[:]切片操作 后者会创建新的对象，前者不会。但是，两种方式都会导致a 和 b 的数据相互影响，因为其数据保存在同一块内存中。如果想要使a与b的数据彼此独立，互不影响，可以使用 b = np.copy(a)操作"
   ]
  },
  {
   "cell_type": "code",
   "execution_count": null,
   "metadata": {},
   "outputs": [],
   "source": []
  }
 ],
 "metadata": {
  "kernelspec": {
   "display_name": "Python 3",
   "language": "python",
   "name": "python3"
  },
  "language_info": {
   "codemirror_mode": {
    "name": "ipython",
    "version": 3
   },
   "file_extension": ".py",
   "mimetype": "text/x-python",
   "name": "python",
   "nbconvert_exporter": "python",
   "pygments_lexer": "ipython3",
   "version": "3.5.2"
  }
 },
 "nbformat": 4,
 "nbformat_minor": 2
}
