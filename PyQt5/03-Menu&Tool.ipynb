{
 "cells": [
  {
   "cell_type": "markdown",
   "metadata": {},
   "source": [
    "### 导入需要的包"
   ]
  },
  {
   "cell_type": "code",
   "execution_count": null,
   "metadata": {},
   "outputs": [],
   "source": [
    "import sys\n",
    "# QMainWindow类提供了一个主要的应用程序窗口，可以让应用程序添加状态栏，工具栏和菜单栏\n",
    "from PyQt5.QtWidgets import QMainWindow, QApplication，QAction, qApp\n",
    "from PyQt5.QtGui import QIcon"
   ]
  },
  {
   "cell_type": "markdown",
   "metadata": {},
   "source": [
    "### 创建状态栏、菜单栏和工具栏"
   ]
  },
  {
   "cell_type": "code",
   "execution_count": null,
   "metadata": {},
   "outputs": [],
   "source": [
    "class Example(QMainWindow):\n",
    "    def __init__(self):\n",
    "        super().__init__()\n",
    "        self.initUI()\n",
    "    \n",
    "    def initUI(self):\n",
    "        textEdit = QTextEdit()\n",
    "        self.setCentralWidget(textEdit)\n",
    "        \n",
    "        \n",
    "        exitAction = QAction(QIcon('/Image/Beihang.png'),'&Exit',self)\n",
    "        exitAction = setShortcut('Ctrl+Q')\n",
    "        exitAction.setStatusTip('Exit application')\n",
    "        exitAction.striggered.connect(self.close)\n",
    "        \n",
    "        self.statusBar()\n",
    "        \n",
    "        menubar = self.menuBar()                   # 创建一个菜单栏\n",
    "        fileMenu = menubar.addMenu('&File')        # 添加菜单\n",
    "        fileMenu.addAction(exitAction)             # 添加事件\n",
    "        \n",
    "        toolbar = self.addToolBar('Exit')\n",
    "        toolbar.addAction(exitAction)\n",
    "        \n",
    "        self.setGeometry(300,300,250,150)\n",
    "        self.setWindowTitle('Main Window')\n",
    "        self.show()"
   ]
  },
  {
   "cell_type": "markdown",
   "metadata": {},
   "source": [
    "### 运行窗口"
   ]
  },
  {
   "cell_type": "code",
   "execution_count": null,
   "metadata": {},
   "outputs": [],
   "source": [
    "app = QApplication([])\n",
    "ex = Example()\n",
    "sys.exit(app.exec_())"
   ]
  }
 ],
 "metadata": {
  "kernelspec": {
   "display_name": "Python 3",
   "language": "python",
   "name": "python3"
  },
  "language_info": {
   "codemirror_mode": {
    "name": "ipython",
    "version": 3
   },
   "file_extension": ".py",
   "mimetype": "text/x-python",
   "name": "python",
   "nbconvert_exporter": "python",
   "pygments_lexer": "ipython3",
   "version": "3.5.2"
  }
 },
 "nbformat": 4,
 "nbformat_minor": 2
}
