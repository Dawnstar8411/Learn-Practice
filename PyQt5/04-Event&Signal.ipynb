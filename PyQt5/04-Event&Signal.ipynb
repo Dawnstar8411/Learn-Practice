{
 "cells": [
  {
   "cell_type": "markdown",
   "metadata": {},
   "source": [
    "### 导入需要的包"
   ]
  },
  {
   "cell_type": "code",
   "execution_count": 8,
   "metadata": {},
   "outputs": [],
   "source": [
    "import sys\n",
    "from PyQt5.QtCore import Qt\n",
    "from PyQt5.QtWidgets import QWidget, QLCDNumber, QSlider, QVBoxLayout, QApplication, QMainWindow\n",
    "from PyQt5.QtCore import Qt, pyqtSignal, QObject"
   ]
  },
  {
   "cell_type": "markdown",
   "metadata": {},
   "source": [
    "### 信号槽"
   ]
  },
  {
   "cell_type": "code",
   "execution_count": 9,
   "metadata": {},
   "outputs": [],
   "source": [
    "class Example(QWidget):\n",
    "    \n",
    "    def __init__(self):\n",
    "        super().___init__()\n",
    "        self.initUI()\n",
    "    \n",
    "    def initUI(self):\n",
    "        lcd = QLCDNumber(self)\n",
    "        sld = QSlider(Qt.Horizontal,self)\n",
    "        \n",
    "        vbox = QVBoxLayout()\n",
    "        vbox.addWidget(lcd)\n",
    "        vbox.addWidget(sld)\n",
    "        \n",
    "        self.setLayout(vbox)\n",
    "        sld.valueChanged.connect(lcd.display)\n",
    "        \n",
    "        self.setGeometry(300,300,250,150)\n",
    "        self.setWindowTitle('Signal & Slot')\n",
    "        self.show()"
   ]
  },
  {
   "cell_type": "markdown",
   "metadata": {},
   "source": [
    "### 重新实现事件处理器"
   ]
  },
  {
   "cell_type": "code",
   "execution_count": 10,
   "metadata": {},
   "outputs": [],
   "source": [
    "class Example(QWidget):\n",
    "    \n",
    "    def __init__(self):\n",
    "        super().__init__()\n",
    "        self.initUI()\n",
    "    \n",
    "    def initUI(self):\n",
    "        self.setGeometry(300,300,250,150)\n",
    "        self.setWindowTitle('Event Handler')\n",
    "        self.show()\n",
    "    \n",
    "    # 重新实现了KeyPressEvent()事件处理器，按下Escape键会使程序退出\n",
    "    def keyPressEvent(self,e):\n",
    "        if e.key()  == Qt.Key_Escape:\n",
    "            self.close()\n",
    "        "
   ]
  },
  {
   "cell_type": "markdown",
   "metadata": {},
   "source": [
    "### 事件发送者"
   ]
  },
  {
   "cell_type": "code",
   "execution_count": 11,
   "metadata": {},
   "outputs": [],
   "source": [
    "class Example(QMainWindow):\n",
    "    \n",
    "    def __init__(self):\n",
    "        super().__init__()\n",
    "        self.initUI()\n",
    "    \n",
    "    def initUI(self):\n",
    "        \n",
    "        btn1 = QPushButton(\"Button 1\", self)\n",
    "        btn1.move(30,50)\n",
    "        \n",
    "        btn2 = QPushButton(\"Button 2\", self)\n",
    "        btn2.move(150,50)\n",
    "        \n",
    "        btn1.clicked.connected(self.buttonClicked)\n",
    "        btn2.clicked.connected(self.buttonClicked)\n",
    "        \n",
    "        self.statusBar()\n",
    "        self.setGeometry(300,300,290,150)\n",
    "        self.setWindowTitle('Event Sender')\n",
    "        self.show()\n",
    "    \n",
    "    # 两个按钮链接到了同一个插槽，通过调用sender()方法来判断信号源，并将其名称显示在窗体的状态栏中\n",
    "    def buttonClicked(self):\n",
    "        sender = self.sender()\n",
    "        self.statusBar().showMessage(sender.text() + 'was pressed')"
   ]
  },
  {
   "cell_type": "markdown",
   "metadata": {},
   "source": [
    "### 发出信号"
   ]
  },
  {
   "cell_type": "code",
   "execution_count": 12,
   "metadata": {},
   "outputs": [],
   "source": [
    "class Communicate(QObject):\n",
    "    \n",
    "    closeApp = pyqtSignal()                  # closeApp是Communicate的类属性，由pyqtSignal()创建\n",
    "\n",
    "\n",
    "class Example(QMainWindow):\n",
    "    \n",
    "    def __init__(self):\n",
    "        super().__init_-()\n",
    "        self.initUI()\n",
    "    \n",
    "    def initUI(self):\n",
    "        self.c = Communicate()\n",
    "        self.c.closeApp.connect(self.close)\n",
    "        \n",
    "        self.setGeometry(300,300,290,150)\n",
    "        self.setWindowTitle('Emit Signal')\n",
    "        self.show()\n",
    "        \n",
    "    def mousePressEvent(self,event):\n",
    "        self.c.closeApp.emit()"
   ]
  }
 ],
 "metadata": {
  "kernelspec": {
   "display_name": "Python 3",
   "language": "python",
   "name": "python3"
  },
  "language_info": {
   "codemirror_mode": {
    "name": "ipython",
    "version": 3
   },
   "file_extension": ".py",
   "mimetype": "text/x-python",
   "name": "python",
   "nbconvert_exporter": "python",
   "pygments_lexer": "ipython3",
   "version": "3.5.2"
  }
 },
 "nbformat": 4,
 "nbformat_minor": 2
}
