{
 "cells": [
  {
   "cell_type": "markdown",
   "metadata": {},
   "source": [
    "### 导入需要的包"
   ]
  },
  {
   "cell_type": "code",
   "execution_count": null,
   "metadata": {},
   "outputs": [],
   "source": [
    "import sys\n",
    "from PyQt5.QtWidgets import QApplication, QWidget, QLindEdit, QPushButton\n",
    "from PyQt5.QtCore import Qt, QMimeData\n",
    "from PyQt5.QtGui import QDrag"
   ]
  },
  {
   "cell_type": "markdown",
   "metadata": {},
   "source": [
    "### 简单拖放"
   ]
  },
  {
   "cell_type": "code",
   "execution_count": null,
   "metadata": {},
   "outputs": [],
   "source": [
    "class Button(QPushButton):\n",
    "    def __init__(self,title,parent):\n",
    "        super().__init__(title,parent)\n",
    "        self.setAcceptDrops(True)\n",
    "    \n",
    "    def dragEnterEvent(self,e):\n",
    "        if e.mimeData().hasFormat('text/plain'):\n",
    "            e.accept()\n",
    "        else:\n",
    "            e.ignore()\n",
    "        \n",
    "    def dropEvent(self,e):\n",
    "        self.setText(e.mimeDate().text())\n",
    "        \n",
    "class Example(QWidget):\n",
    "    def __init__(self):\n",
    "        super().__init__()\n",
    "        self.initUI()\n",
    "    \n",
    "    def initUI(self):\n",
    "        edit = QLineEdit('',self)\n",
    "        edit.setDragEnabled(True)\n",
    "        edit.move(30,65)\n",
    "        \n",
    "        button = Button(\"Botton\",self)\n",
    "        button.move(190,65)\n",
    "        \n",
    "        self.setWindowTitle('Simple Drag & Drop')\n",
    "        self.setGeometry(300,300,300,150)\n",
    "        "
   ]
  },
  {
   "cell_type": "markdown",
   "metadata": {},
   "source": [
    "### 拖放按钮"
   ]
  },
  {
   "cell_type": "code",
   "execution_count": null,
   "metadata": {},
   "outputs": [],
   "source": [
    "class Button(QPushButton):\n",
    "    def __init__(self,title,parent):\n",
    "        super().__init__(title,parent)\n",
    "    \n",
    "    def mouseMoveEvent(self,e):\n",
    "        if e.buttons() != Qt.RightButton:\n",
    "            return\n",
    "        mimeData = QmimeData()\n",
    "        drag = QDrag(self)\n",
    "        drag.setMimeData(mimeData)\n",
    "        drag.setHotSpot(e.pos()-self.rect().topLeft())\n",
    "        dropASction = drag.exec_(Qt.MoveAction)\n",
    "    \n",
    "    def mousePressEvent(self,e):\n",
    "        QPushButton.mousePressEvent(self,e)\n",
    "        if e.button() == Qt.LeftButton:\n",
    "            print(\"press\")\n",
    "\n",
    "class Example(QWidget):\n",
    "    def __init__(self):\n",
    "        super().__init__()\n",
    "        self.initUI()\n",
    "    def initUI(self):\n",
    "        self.setAcceptDrops(True)\n",
    "        self.button = Button('Button',self)\n",
    "        self.button.move(100,65)\n",
    "        \n",
    "        self.setWindowTitle('Click or Move')\n",
    "        self.setGeometry(300,300,280,150)\n",
    "        \n",
    "    def dragEnterEvent(self,e):\n",
    "        e.accept()\n",
    "    \n",
    "    def dropEvent(self,e):\n",
    "        position = e.pos()\n",
    "        self.button.move(position)\n",
    "        e.setDropAction(Qt.MoveAction)\n",
    "        e.accept()"
   ]
  }
 ],
 "metadata": {
  "kernelspec": {
   "display_name": "Python 3",
   "language": "python",
   "name": "python3"
  },
  "language_info": {
   "codemirror_mode": {
    "name": "ipython",
    "version": 3
   },
   "file_extension": ".py",
   "mimetype": "text/x-python",
   "name": "python",
   "nbconvert_exporter": "python",
   "pygments_lexer": "ipython3",
   "version": "3.5.2"
  }
 },
 "nbformat": 4,
 "nbformat_minor": 2
}
