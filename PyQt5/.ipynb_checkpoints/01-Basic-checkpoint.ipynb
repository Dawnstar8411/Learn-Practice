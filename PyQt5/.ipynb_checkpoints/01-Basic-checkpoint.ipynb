{
 "cells": [
  {
   "cell_type": "markdown",
   "metadata": {},
   "source": [
    "### 简单的例子 "
   ]
  },
  {
   "cell_type": "code",
   "execution_count": null,
   "metadata": {},
   "outputs": [],
   "source": [
    "import sys\n",
    "\n",
    "# QtWidgets 模块包含为创造经典桌面风格的用户界面提供的一套UI元素的类\n",
    "from PyQt5.QtWidgets import QApplication, QWidget\n",
    "\n",
    "app = QApplication(sys.argv)   # 为每一个PyQt5应用程序创建对象，sys.argv参数是一个列表，从命令行输入参数\n",
    "w = QWidget()                  # QWidget是所有用户界面对象的基类，提供默认构造函数\n",
    "w.resize(250,150)              # 窗口大小： 宽 x 高\n",
    "w.move(300,300)                # 移动窗口在屏幕上的位置为（x,y）=(300,300)\n",
    "w.setWindowTitle('Simple')     # 设置窗口标题\n",
    "w.show()                       # 显示窗口\n",
    "    \n",
    "sys.exit(app.exec_())          # 系统的exit()方法可以保证应用程序干净的退出"
   ]
  },
  {
   "cell_type": "markdown",
   "metadata": {},
   "source": [
    "### 导入需要的包"
   ]
  },
  {
   "cell_type": "code",
   "execution_count": null,
   "metadata": {},
   "outputs": [],
   "source": [
    "import sys\n",
    "from PyQt5.QtWidgets import QApplication, QWidget, QToolTip, QPushButton, QMessageBox, QDesktopWidget\n",
    "from PyQt5.QtGui import QIcon, QFont\n",
    "from PyQt5.QtCore import QCoreApplication"
   ]
  },
  {
   "cell_type": "markdown",
   "metadata": {},
   "source": [
    "### 继承Qwidget并重构"
   ]
  },
  {
   "cell_type": "code",
   "execution_count": null,
   "metadata": {},
   "outputs": [],
   "source": [
    "class Example(QWidget):\n",
    "    def __init__(self):\n",
    "        super().__init__()\n",
    "        self.initUI()\n",
    "    \n",
    "    def initUI(self):\n",
    "        \n",
    "        # 设置窗口属性\n",
    "        self.setGeometry(300,300,300,300)\n",
    "        self.setWindowTitle('Basic Example')\n",
    "        self.setWindowIcon(QIcon('./Image/Beihang.png'))\n",
    "        \n",
    "        # 设置提示语\n",
    "        QToolTip.setFont(QFont('SansSerif',10))                 # 使用静态方法设置用于显示提示的字体\n",
    "        self.setToolTip('This is a <b>QWidget</b> widget')      # 为窗口本身创建提示语，可使用富文本格式\n",
    "        # 退出按钮\n",
    "        qbtn = QPushButton('Quit',self)\n",
    "        qbtn.setToolTip('This is for <b>Quit</b>')\n",
    "        qbtn.clicked.connect(QCoreApplication.instance().quit)\n",
    "        qbtn.resize(qbtn.sizeHint())\n",
    "        qbtn.move(50,50)\n",
    "        \n",
    "        self.show()\n",
    "    \n",
    "    # 重写closeEvent事件处理程序\n",
    "    def closeEvent(self,event):\n",
    "        reply = QMessageBox.question(self, 'Message', \"Are you sure to quit?\", QMessageBox.Yes | QMessageBox. No, QMessageBox.No)\n",
    "        \n",
    "        if reply == QMessageBox.Yes:\n",
    "            event.accept()\n",
    "        else:\n",
    "            event.ignore()\n",
    "        \n",
    "    def center(self):\n",
    "        qr = self.frameGeometry()                            # 获得窗口\n",
    "        cp = QDesktopWidget().availableGeometry().center()   # 获得屏幕中心点\n",
    "        qr.moveCenter(cp)\n",
    "        self.move(qr.topLeft())\n",
    "        "
   ]
  },
  {
   "cell_type": "markdown",
   "metadata": {},
   "source": [
    "### 运行窗口"
   ]
  },
  {
   "cell_type": "code",
   "execution_count": null,
   "metadata": {},
   "outputs": [],
   "source": [
    "app = QApplication([])\n",
    "ex = Example()\n",
    "sys.exit(app.exec_())"
   ]
  }
 ],
 "metadata": {
  "kernelspec": {
   "display_name": "Python 3",
   "language": "python",
   "name": "python3"
  },
  "language_info": {
   "codemirror_mode": {
    "name": "ipython",
    "version": 3
   },
   "file_extension": ".py",
   "mimetype": "text/x-python",
   "name": "python",
   "nbconvert_exporter": "python",
   "pygments_lexer": "ipython3",
   "version": "3.5.2"
  }
 },
 "nbformat": 4,
 "nbformat_minor": 2
}
