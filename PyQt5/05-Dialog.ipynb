{
 "cells": [
  {
   "cell_type": "markdown",
   "metadata": {},
   "source": [
    "### 导入需要的包"
   ]
  },
  {
   "cell_type": "code",
   "execution_count": null,
   "metadata": {},
   "outputs": [],
   "source": [
    "import sys\n",
    "from PyQt5.QtWidgets import (QWidget, QPushButton, QLineEdit, QInputDialog, QTextEdit, QAction,QFileDialog,\n",
    "                             QApplication,QVBoxLayout,QSizePolicy, QLabel, QFontDialog,QMainWindow)"
   ]
  },
  {
   "cell_type": "markdown",
   "metadata": {},
   "source": [
    "### QInputDialog"
   ]
  },
  {
   "cell_type": "code",
   "execution_count": null,
   "metadata": {},
   "outputs": [],
   "source": [
    "class Example(QWidget):\n",
    "    \n",
    "    def __init__(self):\n",
    "        super().__init__()\n",
    "        self.initUI()\n",
    "        \n",
    "    def initUI(self):\n",
    "        self.btn = QPushButton('Dialog', self)\n",
    "        self.btn.move(20,20)\n",
    "        self.btn.clicked.connect(self.showDialog)\n",
    "        \n",
    "        self.le = QLineEdit(self)\n",
    "        self.le.move(130,20)\n",
    "        \n",
    "        self.setGeometry(300,300,290,150)\n",
    "        self.setWindowTitle('Input dislog')\n",
    "        self.show()\n",
    "        \n",
    "    def showDialog(self):\n",
    "        text, ok = QInputDialog.getText(self, 'Input Dialog', 'Enter your name:') # 显示输入对话框\n",
    "        if ok:\n",
    "            self.le.setText(str(text))                                            # 对话框收到的文本消息会显示在文本框中"
   ]
  },
  {
   "cell_type": "markdown",
   "metadata": {},
   "source": [
    "### QColorDialog"
   ]
  },
  {
   "cell_type": "code",
   "execution_count": null,
   "metadata": {},
   "outputs": [],
   "source": [
    "class Example(self):\n",
    "    def __init__(self):\n",
    "        super().__init__()\n",
    "        self.initUI()\n",
    "    \n",
    "    def initUI(self):\n",
    "        col = QColor(0,0,0)\n",
    "        self.btn = QPushButton('Dialog',self)\n",
    "        self.btn.move(20,20)\n",
    "        \n",
    "        self.btn.clicked.connect(self.showDialog)\n",
    "        \n",
    "        self.frm = QFrame(self)\n",
    "        self.frm.setStyleSheet(\"QWidget {background-color:%s}\" % col.name())\n",
    "        \n",
    "        self.frm.setGeometry(130,22,100,100)\n",
    "        \n",
    "        self.setGeometry(300,300,250,100)\n",
    "        self.setWindowTitle('color dialog')\n",
    "        self.show()\n",
    "    \n",
    "    def showDialog(self):\n",
    "        col = QColorDialog.getColor()\n",
    "        if col.isValid():\n",
    "            self.frm.setStyleSheet(\"QWidget {background-color: %s}\" % col.name())"
   ]
  },
  {
   "cell_type": "markdown",
   "metadata": {},
   "source": [
    "### QFontDialog"
   ]
  },
  {
   "cell_type": "code",
   "execution_count": null,
   "metadata": {},
   "outputs": [],
   "source": [
    "class Example(QWidget):\n",
    "    \n",
    "    def __init__(self):\n",
    "        super().__init__()\n",
    "        self.initUI()\n",
    "    \n",
    "    def initUI(self):\n",
    "        \n",
    "        vbox = QVBoxLayout()\n",
    "        \n",
    "        btn = QPushButton('Dialog',self)\n",
    "        btn.setSizePolicy(QSizePolicy.Fixed, QSizePolicy.Fixed)\n",
    "        btn.move(20,20)\n",
    "        \n",
    "        vbox.addWidget(btn)\n",
    "        \n",
    "        btn.clicked.connect(self.showDialog)\n",
    "        self.lbl = QLabel('knowledge only matters', self)\n",
    "        self.lbl.move(130, 20)\n",
    "        \n",
    "        vbox.addWidget(self.lbl)\n",
    "        self.setLayout(vbox)\n",
    "        \n",
    "        self.setGeometry(300,300,250,180)\n",
    "        self.setWindowTitle('Font Dialog')\n",
    "        self.show()\n",
    "    \n",
    "    def showDialog(self):\n",
    "        \n",
    "        font,ok = QFontDialog.getFont()\n",
    "        if ok:\n",
    "            self.lbl.setFont(font)\n",
    "        "
   ]
  },
  {
   "cell_type": "markdown",
   "metadata": {},
   "source": [
    "### QFileDialog"
   ]
  },
  {
   "cell_type": "code",
   "execution_count": null,
   "metadata": {},
   "outputs": [],
   "source": [
    "class Example(QMainWindow):\n",
    "    \n",
    "    def __init__(self):\n",
    "        super().__init__()\n",
    "        self.initUI()\n",
    "        \n",
    "    def initUI(self):\n",
    "        self.textEdit = QTextEdit()\n",
    "        self.setCentralWidget(self.textEdit)\n",
    "        self.statusBar()\n",
    "        \n",
    "        openFile = QAction(QIcon('/Image/Beihang.png'),'Open',self)\n",
    "        openFile.setShortcut('Ctrl+O')\n",
    "        openFile.setStatusTip('Open new File')\n",
    "        openFile.triggered.connect(self.showDislog)\n",
    "        \n",
    "        menubar = self.menuBar()\n",
    "        fileMenu = munubar.addMenu('&File')\n",
    "        fileMenu.addAction(openFile)\n",
    "        \n",
    "        self.setGeometry(300,300,350,300)\n",
    "        self.setWindowTitle('File dialog')\n",
    "        self.show()\n",
    "        \n",
    "    def showDialog(self):\n",
    "        \n",
    "        fname = QFileDialog.getOpenFileName(self, 'Open file', '/home')\n",
    "        \n",
    "        if frame[0]:\n",
    "            f = open(fname[0], 'r')\n",
    "            \n",
    "            with f:\n",
    "                data = f.read()\n",
    "                self.textEdit.setText(data)"
   ]
  },
  {
   "cell_type": "markdown",
   "metadata": {},
   "source": [
    "### 运行窗口"
   ]
  },
  {
   "cell_type": "code",
   "execution_count": null,
   "metadata": {},
   "outputs": [],
   "source": [
    "app = QApplication([])\n",
    "ex = Example()\n",
    "sys.exit(app.exec_())"
   ]
  }
 ],
 "metadata": {
  "kernelspec": {
   "display_name": "Python 3",
   "language": "python",
   "name": "python3"
  },
  "language_info": {
   "codemirror_mode": {
    "name": "ipython",
    "version": 3
   },
   "file_extension": ".py",
   "mimetype": "text/x-python",
   "name": "python",
   "nbconvert_exporter": "python",
   "pygments_lexer": "ipython3",
   "version": "3.5.2"
  }
 },
 "nbformat": 4,
 "nbformat_minor": 2
}
