{
 "cells": [
  {
   "cell_type": "markdown",
   "metadata": {},
   "source": [
    "### 引入需要的包"
   ]
  },
  {
   "cell_type": "code",
   "execution_count": null,
   "metadata": {},
   "outputs": [],
   "source": [
    "import sys\n",
    "from PyQt5.QtWidgets import QWidget, QLabel, QApplication, QPushButton,QHBoxLayout, QVBoxLayout, QGridLayout, QLineEdit, QTextEdit"
   ]
  },
  {
   "cell_type": "markdown",
   "metadata": {},
   "source": [
    "### 绝对定位"
   ]
  },
  {
   "cell_type": "code",
   "execution_count": null,
   "metadata": {},
   "outputs": [],
   "source": [
    "class Example(QWidget):\n",
    "    \n",
    "    def __init__(self):\n",
    "        super().__init__()\n",
    "        self.initUI()\n",
    "        \n",
    "    def initUI(self):\n",
    "        \n",
    "        lbl1 = QLabel('Zetcode',self)\n",
    "        lbl1.move(15,10)\n",
    "        \n",
    "        lbl2 = QLabel('tutorials', self)\n",
    "        lbl2.move(35,40)\n",
    "        \n",
    "        lbl3 = QLabel('for programmers',self)\n",
    "        lbl3.move(55,70)    \n",
    "        \n",
    "        self.setGeometry(300,300,250,150)\n",
    "        self.setWindowTitle('Absolute')\n",
    "        self.show()"
   ]
  },
  {
   "cell_type": "markdown",
   "metadata": {},
   "source": [
    "### 框布局"
   ]
  },
  {
   "cell_type": "code",
   "execution_count": null,
   "metadata": {},
   "outputs": [],
   "source": [
    "class Example(QWidget):\n",
    "    \n",
    "    def __init__(self):\n",
    "        super().__init__()\n",
    "        self.initUI()\n",
    "    \n",
    "    def initUI(self):\n",
    "        okButton = QPushButton(\"OK\")\n",
    "        cancelButton = QPushButton(\"Cancel\")\n",
    "        \n",
    "        hbox = QHBoxLayout()                  # 创建一个水平布局\n",
    "        hbox.addStretch(1)                    # 增加一个伸展因子，将推动内容靠右显示\n",
    "        hbox.addWidget(okButton)              # 添加按钮\n",
    "        hbox.addWidget(cancleButton)          # 添加按钮\n",
    "        \n",
    "        vbox = QVBoxLayout()                  # 创建一个垂直布局\n",
    "        vbox.addStretch(1)                    # 增加一个伸展因子，将推动内容靠下显示\n",
    "        vbox.addLayout(hbox)                  # 添加水平布局\n",
    "        \n",
    "        self.setLayout(vbox)                  # 设置窗口的布局界面\n",
    "        self.setGeometry(300,300,300,150)\n",
    "        self.setWindowTitle('Buttons')\n",
    "        self.show()\n",
    "        "
   ]
  },
  {
   "cell_type": "markdown",
   "metadata": {},
   "source": [
    "### 表格布局"
   ]
  },
  {
   "cell_type": "code",
   "execution_count": null,
   "metadata": {},
   "outputs": [],
   "source": [
    "class Example(QWidget):\n",
    "    \n",
    "    def __init__(self):\n",
    "        super().__init__()\n",
    "        self.initUI()\n",
    "        \n",
    "    def initUI(self):\n",
    "        \n",
    "        gird = QGridLayout()                 # 创建网格\n",
    "        self.setLayout(grid)                 # 设置窗口布局\n",
    "        \n",
    "        names = ['Cls', 'Bck', '', 'Close',\n",
    "                '7','8','9','/',\n",
    "                '4','5','6','*',\n",
    "                '1','2','3','-',\n",
    "                '0','.','=','+']\n",
    "        \n",
    "        positions = [(i,j) for i in range(5) for j in range(4)]\n",
    "\n",
    "        for position, name in zip(positions, names):\n",
    "            \n",
    "            if name == '':\n",
    "                continue\n",
    "            button = QPushButton(name)\n",
    "            grid.addWidget(button, *position)\n",
    "        \n",
    "        self.setGeometry(300,300,300,150)\n",
    "        self.setWindowTitle('Calculator')\n",
    "        self.show()"
   ]
  },
  {
   "cell_type": "markdown",
   "metadata": {},
   "source": [
    "### 实例"
   ]
  },
  {
   "cell_type": "code",
   "execution_count": null,
   "metadata": {},
   "outputs": [],
   "source": [
    "class Examplt(QWidget):\n",
    "    \n",
    "    def __init__(self):\n",
    "        super().__init__()\n",
    "        self.initUI()\n",
    "    \n",
    "    def initUI(self):\n",
    "        \n",
    "        title = QLabel('Title')\n",
    "        author = QLabel('Author')\n",
    "        review = QLabel('Review')\n",
    "        \n",
    "        titleEdit = QLineEdit()\n",
    "        authorEdit = QLineEdit()\n",
    "        reviewEdit = QTextEdit()\n",
    "        \n",
    "        grid = QGridLayout()\n",
    "        grid.setSpacing(10)\n",
    "        \n",
    "        grid.addWidget(title, 1, 0)\n",
    "        grid.addWidget(titleEdit, 1, 0)\n",
    "        grid.addWidget(author, 2, 0)\n",
    "        grid.addWidget(authorEdit, 2, 1)\n",
    "        grid.addWidget(review, 3, 0)\n",
    "        grid.addWidget(reviewEdit, 3, 1, 5, 1)\n",
    "        \n",
    "        self.setLayout(grid)\n",
    "        \n",
    "        self.setGeometry(300,300,350,300)\n",
    "        self.setWindowTitle('Review')\n",
    "        self.show()"
   ]
  },
  {
   "cell_type": "markdown",
   "metadata": {},
   "source": [
    "### 运行窗口"
   ]
  },
  {
   "cell_type": "code",
   "execution_count": null,
   "metadata": {},
   "outputs": [],
   "source": [
    "app = QApplication([])\n",
    "ex = Example()\n",
    "sys.exit(app.exec_())"
   ]
  }
 ],
 "metadata": {
  "kernelspec": {
   "display_name": "Python 3",
   "language": "python",
   "name": "python3"
  },
  "language_info": {
   "codemirror_mode": {
    "name": "ipython",
    "version": 3
   },
   "file_extension": ".py",
   "mimetype": "text/x-python",
   "name": "python",
   "nbconvert_exporter": "python",
   "pygments_lexer": "ipython3",
   "version": "3.5.2"
  }
 },
 "nbformat": 4,
 "nbformat_minor": 2
}
